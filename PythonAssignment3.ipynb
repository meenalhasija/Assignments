{
 "cells": [
  {
   "cell_type": "code",
   "execution_count": 1,
   "metadata": {},
   "outputs": [
    {
     "name": "stdout",
     "output_type": "stream",
     "text": [
      "1. Addition\n",
      "2. Subtraction\n",
      "3. Multiplication\n",
      "4. Division\n",
      "5. Exit\n",
      "Enter any option: 3\n",
      "Enter any two integers: \n",
      "6\n",
      "5\n",
      "Result is =  30\n"
     ]
    }
   ],
   "source": [
    "#QUESTION NO:1 Calculator\n",
    "\n",
    "print(\"1. Addition\");\n",
    "print(\"2. Subtraction\");\n",
    "print(\"3. Multiplication\");\n",
    "print(\"4. Division\");\n",
    "print(\"5. Exit\");\n",
    "choice = int(input(\"Enter any option: \"));\n",
    "if (choice>=1 and choice<=4):\n",
    "    print(\"Enter any two integers: \");\n",
    "    numb = int(input());\n",
    "    numb2 = int(input());\n",
    "    if choice == 1:\n",
    "        res = numb + numb2;\n",
    "        print(\"Result is = \", res);\n",
    "    elif choice == 2:\n",
    "        res = numb - numb2;\n",
    "        print(\"Result is  = \", res);\n",
    "    elif choice == 3:\n",
    "        res = numb * numb2;\n",
    "        print(\"Result is = \", res);\n",
    "    else:\n",
    "        res = numb / numb2;\n",
    "        print(\"Result is = \", res);\n",
    "elif choice == 5:\n",
    "    exit();\n",
    "else:\n",
    "    print(\"Invaild Input\");"
   ]
  },
  {
   "cell_type": "code",
   "execution_count": 2,
   "metadata": {},
   "outputs": [
    {
     "name": "stdout",
     "output_type": "stream",
     "text": [
      "10 23 0 51 "
     ]
    }
   ],
   "source": [
    "#QUESTION NO:2 To check wheather any postive numeric number is in the given list. \n",
    "  \n",
    "list = [10, 23, -43, 0, -45, 51, -16] \n",
    "  \n",
    "#loop\n",
    "for numb in list:   \n",
    "    # checking condition \n",
    "    if numb >= 0: \n",
    "       print(numb, end = \" \") "
   ]
  },
  {
   "cell_type": "code",
   "execution_count": 3,
   "metadata": {},
   "outputs": [
    {
     "name": "stdout",
     "output_type": "stream",
     "text": [
      "Current Dict is:  {'NameKey': 'Meenal', 'AgeKey': '21', 'CityKey': 'Karachi'}\n"
     ]
    }
   ],
   "source": [
    "#Question no 3: Add a keys to a dictionary\n",
    "\n",
    "dict = {'NameKey':'Meenal', 'AgeKey':'21', 'CityKey':'Karachi'} \n",
    "print(\"Current Dict is: \", dict) "
   ]
  },
  {
   "cell_type": "code",
   "execution_count": 5,
   "metadata": {},
   "outputs": [
    {
     "name": "stdout",
     "output_type": "stream",
     "text": [
      "Sum of all the values in the dictionary is:  250\n"
     ]
    }
   ],
   "source": [
    "#QUESTION NO 4: Sum all the numeric items in a dictionary\n",
    "\n",
    "Listdict = {'data1':100,'data2':100,'data3':50 }\n",
    "print(\"Sum of all the values in the dictionary is: \",sum(Listdict.values()))"
   ]
  },
  {
   "cell_type": "code",
   "execution_count": 6,
   "metadata": {},
   "outputs": [
    {
     "name": "stdout",
     "output_type": "stream",
     "text": [
      "[23, 51]\n"
     ]
    }
   ],
   "source": [
    "#QUESTION NO: 5 Find the dupicate values from the list\n",
    "\n",
    "def Repeat(x): \n",
    "    _legth = len(x) \n",
    "    repeated = [] \n",
    "    for i in range(_legth): \n",
    "        k = i + 1\n",
    "        for j in range(k, _legth): \n",
    "            if x[i] == x[j] and x[i] not in repeated: \n",
    "                repeated.append(x[i]) \n",
    "    return repeated \n",
    "  \n",
    "# Driver Code \n",
    "list1 = [11, 23, 51, 16, 23, 30, 51,  \n",
    "         50, 23, 51, 10, -20, 51] \n",
    "print (Repeat(list1)) "
   ]
  },
  {
   "cell_type": "code",
   "execution_count": 7,
   "metadata": {},
   "outputs": [
    {
     "name": "stdout",
     "output_type": "stream",
     "text": [
      "Available In List,  value = 23\n",
      "Not Available \n",
      "Available In List,  value = 51\n"
     ]
    }
   ],
   "source": [
    "#QUESTION NO 6: To check if the key is already present in the dict\n",
    "\n",
    "def checkKeys(dict, key): \n",
    "      \n",
    "    if key in dict.keys(): \n",
    "        print(\"Available In List, \", end =\" \") \n",
    "        print(\"value =\", dict[key]) \n",
    "    else: \n",
    "        print(\"Not Available \") \n",
    "\n",
    "dict = {'a': 20, 'b':23, 'c':51} \n",
    "  \n",
    "key = 'b'\n",
    "checkKeys(dict, key) \n",
    "  \n",
    "key = 'd'\n",
    "checkKeys(dict, key) \n",
    "\n",
    "key = 'c'\n",
    "checkKeys(dict, key)"
   ]
  },
  {
   "cell_type": "code",
   "execution_count": null,
   "metadata": {},
   "outputs": [],
   "source": []
  }
 ],
 "metadata": {
  "kernelspec": {
   "display_name": "Python 3",
   "language": "python",
   "name": "python3"
  },
  "language_info": {
   "codemirror_mode": {
    "name": "ipython",
    "version": 3
   },
   "file_extension": ".py",
   "mimetype": "text/x-python",
   "name": "python",
   "nbconvert_exporter": "python",
   "pygments_lexer": "ipython3",
   "version": "3.7.4"
  }
 },
 "nbformat": 4,
 "nbformat_minor": 2
}
