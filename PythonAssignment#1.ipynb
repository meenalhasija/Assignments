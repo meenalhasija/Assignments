{
 "cells": [
  {
   "cell_type": "code",
   "execution_count": 1,
   "metadata": {},
   "outputs": [
    {
     "name": "stdout",
     "output_type": "stream",
     "text": [
      "Twinkle, twinkle, little star, \n",
      "\tHow I wonder what you are! \n",
      "\t\tUp above the world so high, \n",
      "\t\tLike a diamond in the sky. \n",
      "Twinkle, twinkle, little star, \n",
      "\tHow I wonder what you are!\n"
     ]
    }
   ],
   "source": [
    "#SOLUTION QuestionNo:1\n",
    "print(\"Twinkle, twinkle, little star, \\n\\tHow I wonder what you are! \\n\\t\\tUp above the world so high, \\n\\t\\tLike a diamond in the sky. \\nTwinkle, twinkle, little star, \\n\\tHow I wonder what you are!\")"
   ]
  },
  {
   "cell_type": "code",
   "execution_count": 5,
   "metadata": {},
   "outputs": [
    {
     "name": "stdout",
     "output_type": "stream",
     "text": [
      "'Python version and info'\n",
      "3.7.4 (default, Aug  9 2019, 18:34:13) [MSC v.1915 64 bit (AMD64)]\n",
      "sys.version_info(major=3, minor=7, micro=4, releaselevel='final', serial=0)\n"
     ]
    }
   ],
   "source": [
    "#SOLUTION QuestionNo:2\n",
    "import sys\n",
    "print(\"'Python version and info'\")\n",
    "print (sys.version)\n",
    "print (sys.version_info)"
   ]
  },
  {
   "cell_type": "code",
   "execution_count": 7,
   "metadata": {},
   "outputs": [
    {
     "name": "stdout",
     "output_type": "stream",
     "text": [
      "Current Date is: \n",
      "2019-11-04\n",
      "Current Time is:\n",
      "00:32:08\n"
     ]
    }
   ],
   "source": [
    "#SOLUTION QuestionNo:3\n",
    "import datetime\n",
    "now = datetime.datetime.now()\n",
    "print (\"Current Date is: \")\n",
    "print (now.strftime(\"%Y-%m-%d\"))\n",
    "print (\"Current Time is:\")\n",
    "print (now.strftime(\"%H:%M:%S\"))"
   ]
  },
  {
   "cell_type": "code",
   "execution_count": 9,
   "metadata": {},
   "outputs": [
    {
     "name": "stdout",
     "output_type": "stream",
     "text": [
      "Enter the radius of the circle: 23\n",
      "The total area of the circle is23.0 is: 1661.0600000000002\n"
     ]
    }
   ],
   "source": [
    "#SOLUTION QuestionNo:4\n",
    "pi = 3.14\n",
    "radius = float(input (\"Enter the radius of the circle: \"))\n",
    "print (\"The total area of the circle is\" + str(radius) + \" is: \" + str(pi * radius**2))"
   ]
  },
  {
   "cell_type": "code",
   "execution_count": 11,
   "metadata": {},
   "outputs": [
    {
     "name": "stdout",
     "output_type": "stream",
     "text": [
      "Input your First Name: Meenal\n",
      "Input your Last Name: Hasija\n",
      "It's reversed as:Hasija Meenal\n"
     ]
    }
   ],
   "source": [
    "#SOLUTION QuestionNo:5\n",
    "FirstName = input(\"Input your First Name: \")\n",
    "LastName = input(\"Input your Last Name: \")\n",
    "print (\"It's reversed as:\"  + LastName + \" \" + FirstName)"
   ]
  },
  {
   "cell_type": "code",
   "execution_count": 21,
   "metadata": {},
   "outputs": [
    {
     "name": "stdout",
     "output_type": "stream",
     "text": [
      "Addition of 23 and 28 is: \n",
      "51\n"
     ]
    }
   ],
   "source": [
    "#SOLUTION QuestionNo:6\n",
    "numb1 = 23\n",
    "numb2 = 28\n",
    "sum = numb1 + numb2\n",
    "print(\"Addition of 23 and 28 is: \")\n",
    "print(sum)"
   ]
  },
  {
   "cell_type": "code",
   "execution_count": null,
   "metadata": {},
   "outputs": [],
   "source": []
  }
 ],
 "metadata": {
  "kernelspec": {
   "display_name": "Python 3",
   "language": "python",
   "name": "python3"
  },
  "language_info": {
   "codemirror_mode": {
    "name": "ipython",
    "version": 3
   },
   "file_extension": ".py",
   "mimetype": "text/x-python",
   "name": "python",
   "nbconvert_exporter": "python",
   "pygments_lexer": "ipython3",
   "version": "3.7.4"
  }
 },
 "nbformat": 4,
 "nbformat_minor": 2
}
