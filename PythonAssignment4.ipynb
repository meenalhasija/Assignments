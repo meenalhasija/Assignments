{
 "cells": [
  {
   "cell_type": "code",
   "execution_count": 1,
   "metadata": {},
   "outputs": [
    {
     "data": {
      "text/plain": [
       "{'First_name': 'Meenal', 'Second_name': 'Hasija', 'Age': 21, 'City': 'Karachi'}"
      ]
     },
     "execution_count": 1,
     "metadata": {},
     "output_type": "execute_result"
    }
   ],
   "source": [
    "#QUESTION NO 1:\n",
    "#Person dictionary created for an information:\n",
    "Person = {\n",
    "    \"First_name\": \"Meenal\",\n",
    "    \"Second_name\": \"Hasija\",\n",
    "    \"Age\": 21,\n",
    "    \"City\": \"Karachi\"\n",
    "        }\n",
    "Person    "
   ]
  },
  {
   "cell_type": "code",
   "execution_count": 2,
   "metadata": {},
   "outputs": [
    {
     "name": "stdout",
     "output_type": "stream",
     "text": [
      "Meenal\n",
      "Hasija\n",
      "21\n",
      "Karachi\n"
     ]
    }
   ],
   "source": [
    "#Q1 part\n",
    "# Prints the person's details/info\n",
    "for person in Person.values():\n",
    "    print(person)"
   ]
  },
  {
   "cell_type": "code",
   "execution_count": 3,
   "metadata": {},
   "outputs": [
    {
     "data": {
      "text/plain": [
       "{'First_name': 'Meenal',\n",
       " 'Second_name': 'Hasija',\n",
       " 'Age': 21,\n",
       " 'City': 'Karachi',\n",
       " 'Qualification': 'High Academic Level'}"
      ]
     },
     "execution_count": 3,
     "metadata": {},
     "output_type": "execute_result"
    }
   ],
   "source": [
    "#Q1 part\n",
    "#Added new KEY:VALUE about Qualification:High Academic Level\n",
    "\n",
    "Person[\"Qualification\"] = (\"High Academic Level\")\n",
    "Person     "
   ]
  },
  {
   "cell_type": "code",
   "execution_count": 4,
   "metadata": {},
   "outputs": [
    {
     "data": {
      "text/plain": [
       "{'First_name': 'Meenal',\n",
       " 'Second_name': 'Hasija',\n",
       " 'Age': 21,\n",
       " 'City': 'Karachi',\n",
       " 'Qualification': 'Masters'}"
      ]
     },
     "execution_count": 4,
     "metadata": {},
     "output_type": "execute_result"
    }
   ],
   "source": [
    "#Q1 part\n",
    "#UPDATED the Qualification value to new value:  'Masters'\n",
    "\n",
    "Person[\"Qualification\"] = (\"Masters\")\n",
    "Person   "
   ]
  },
  {
   "cell_type": "code",
   "execution_count": 5,
   "metadata": {},
   "outputs": [
    {
     "name": "stdout",
     "output_type": "stream",
     "text": [
      "{'First_name': 'Meenal', 'Second_name': 'Hasija', 'Age': 21, 'City': 'Karachi'}\n"
     ]
    }
   ],
   "source": [
    "#Q1 part\n",
    "#Deleted the Key:Value of Qualification :\n",
    "\n",
    "del Person['Qualification']\n",
    "print(Person)   "
   ]
  },
  {
   "cell_type": "code",
   "execution_count": 6,
   "metadata": {},
   "outputs": [
    {
     "name": "stdout",
     "output_type": "stream",
     "text": [
      "['County: Pakistan', 'Recent Population: 15,741,406', 'Fact: Economic Hub and Commercial City']\n",
      "['County: Pakistan', 'Recent Populaton: 1,095,064', 'Fact: Capital Of Pakistan']\n",
      "['Country: Pakistan', 'Recent Population: 12,188,196', 'Fact: Historical City']\n"
     ]
    }
   ],
   "source": [
    "#QUESTION NO 2: Created dictonary of cities and printed information of each city. \n",
    "\n",
    "Cities = {\n",
    "       'Karachi' :['County: Pakistan','Recent Population: 15,741,406', 'Fact: Economic Hub and Commercial City'],\n",
    "      'Islamabad':['County: Pakistan','Recent Populaton: 1,095,064', 'Fact: Capital Of Pakistan'],\n",
    "        'Lahore' :['Country: Pakistan','Recent Population: 12,188,196', 'Fact: Historical City'],\n",
    "         \n",
    "}\n",
    "print(Cities['Karachi'])\n",
    "print(Cities['Islamabad'])\n",
    "print(Cities['Lahore'])"
   ]
  },
  {
   "cell_type": "code",
   "execution_count": 7,
   "metadata": {},
   "outputs": [
    {
     "name": "stdout",
     "output_type": "stream",
     "text": [
      "Plese Enter Your Age To Know Ticket Price: 21\n",
      "Your Ticket Is Of $15\n"
     ]
    }
   ],
   "source": [
    "#QUESTION NO 3: Ticket price are set according to the age group.\n",
    "\n",
    "Age = int(input('Plese Enter Your Age To Know Ticket Price: '))\n",
    "if Age <= 3:\n",
    "    print('Your Ticket Is Free')\n",
    "elif Age <=12:\n",
    "    print('Your Ticket Is Of $10')\n",
    "elif Age >=12:\n",
    "    print('Your Ticket Is Of $15')"
   ]
  },
  {
   "cell_type": "code",
   "execution_count": 8,
   "metadata": {},
   "outputs": [
    {
     "name": "stdout",
     "output_type": "stream",
     "text": [
      "Please Enter Your Favorite Book: Alice In Wonderland.\n",
      "My Favourite Book Is Alice In Wonderland.\n"
     ]
    }
   ],
   "source": [
    "#QUESTION NO 4: Creating a function of favourite_book() and parameter of title in it. \n",
    "\n",
    "def favourite_book():\n",
    "    title = input(\"Please Enter Your Favorite Book: \")\n",
    "    print(\"My Favourite Book Is\", title)\n",
    "\n",
    "favourite_book()"
   ]
  },
  {
   "cell_type": "code",
   "execution_count": 10,
   "metadata": {},
   "outputs": [
    {
     "name": "stdout",
     "output_type": "stream",
     "text": [
      "11\n",
      "Enter A Number To Guess: 5\n",
      "Your guessed numb is  too Lower \n",
      "Enter A Number For Second Chance: 20\n",
      "Your guessed numb is too High\n",
      "Enter A Number For Third Chance: 11\n",
      "***HIT! IT MATCHED***\n"
     ]
    }
   ],
   "source": [
    "#Q5: Guessing Game:\n",
    "\n",
    "import random\n",
    "hidden = random.randrange(1, 30)\n",
    "print(hidden)\n",
    "\n",
    "guess = int(input('Enter A Number To Guess: '))\n",
    "\n",
    "if guess == hidden:\n",
    "    print('***HIT! IT MATCHED***')\n",
    "elif guess < hidden:\n",
    "    print('Your guessed numb is  too Lower ')\n",
    "elif guess > hidden:\n",
    "    print('Your guessed numb  is too High')\n",
    "    \n",
    "guess = int(input('Enter A Number For Second Chance: '))\n",
    "if guess == hidden:\n",
    "    print('***HIT! IT MATCHED***')\n",
    "elif guess < hidden:\n",
    "    print('Your guessed numb is too Low')\n",
    "elif guess > hidden:\n",
    "    print('Your guessed numb is too High')\n",
    "    \n",
    "guess = int(input('Enter A Number For Third Chance: '))\n",
    "if guess == hidden:\n",
    "    print('***HIT! IT MATCHED***')\n",
    "elif guess < hidden:\n",
    "    print('Your guessed numb is too Low')\n",
    "elif guess > hidden:\n",
    "    print('Your guessed numb is too High')"
   ]
  },
  {
   "cell_type": "code",
   "execution_count": null,
   "metadata": {},
   "outputs": [],
   "source": []
  }
 ],
 "metadata": {
  "kernelspec": {
   "display_name": "Python 3",
   "language": "python",
   "name": "python3"
  },
  "language_info": {
   "codemirror_mode": {
    "name": "ipython",
    "version": 3
   },
   "file_extension": ".py",
   "mimetype": "text/x-python",
   "name": "python",
   "nbconvert_exporter": "python",
   "pygments_lexer": "ipython3",
   "version": "3.7.4"
  }
 },
 "nbformat": 4,
 "nbformat_minor": 2
}
